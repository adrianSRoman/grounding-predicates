{
 "cells": [
  {
   "cell_type": "markdown",
   "metadata": {},
   "source": [
    "# Training\n",
    "\n",
    "Script for training visual predicate classifiers"
   ]
  },
  {
   "cell_type": "code",
   "execution_count": null,
   "metadata": {},
   "outputs": [],
   "source": [
    "%load_ext autoreload\n",
    "%autoreload 2"
   ]
  },
  {
   "cell_type": "markdown",
   "metadata": {},
   "source": [
    "## Load Torch"
   ]
  },
  {
   "cell_type": "code",
   "execution_count": null,
   "metadata": {},
   "outputs": [],
   "source": [
    "import torch\n",
    "USE_GPU = True\n",
    "torch.backends.cudnn.deterministic = True\n",
    "torch.backends.cudnn.benchmark = False\n",
    "\n",
    "device=torch.device(\"cuda:0\" if USE_GPU and torch.cuda.is_available() else \"cpu\")\n",
    "torch.manual_seed(0)\n",
    "print(device)"
   ]
  },
  {
   "cell_type": "markdown",
   "metadata": {},
   "source": [
    "# Train"
   ]
  },
  {
   "cell_type": "markdown",
   "metadata": {},
   "source": [
    "- 2/24/21: **Half DNF** GridworldHalfPredicateExperiment\n",
    "- 2/24/21: **DNF WCE** GridworldPredicateExperiment, weighted ce\n",
    "- 2/24/21: **DNF CE** GridworldPredicateExperiment\n",
    "- 2/24/21: **Oracle** GridworldPredicateExperiment, ground truth\n",
    "- 4/1/21: **DNF CE** TwentyBnPredicateExperiment non-weighted\n",
    "- 4/1/21: **DNF WCE** TwentyBnPredicateExperiment weighted (class-balanced)"
   ]
  },
  {
   "cell_type": "code",
   "execution_count": null,
   "metadata": {},
   "outputs": [],
   "source": [
    "import torch.utils.tensorboard\n",
    "import tqdm\n",
    "\n",
    "from gpred import experiment\n",
    "\n",
    "import config\n",
    "\n",
    "# paths = config.EnvironmentPaths(environment=\"gridworld\")\n",
    "# exp = experiment.GridworldHalfPredicateExperiment(device, paths, num_exp=\"exp-1\", num_epochs=20)\n",
    "# exp = experiment.GridworldPredicateExperiment(device, paths, num_exp=\"exp-2\", num_epochs=20, use_weighted_ce=True)\n",
    "# exp = experiment.GridworldPredicateExperiment(device, paths, num_exp=\"exp-3\", num_epochs=20)\n",
    "# exp = experiment.GridworldPredicateExperiment(device, paths, num_exp=\"exp-4\", num_epochs=20, ground_truth=True)\n",
    "\n",
    "# paths = config.EnvironmentPaths(environment=\"twentybn\")\n",
    "# exp = experiment.TwentyBnPredicateExperiment(device, paths, num_exp=\"exp-5\", batch_size=16, num_epochs=20, use_weighted_ce=False)\n",
    "# exp = experiment.TwentyBnPredicateExperiment(device, paths, num_exp=\"exp-6\", num_epochs=20, use_weighted_ce=True)\n",
    "\n",
    "for path_run in exp:\n",
    "    problem, trainer, network = exp.problem, exp.trainer, exp.network\n",
    "    \n",
    "    writer = torch.utils.tensorboard.SummaryWriter(log_dir=path_run)\n",
    "\n",
    "    # Train model\n",
    "    print(f\"Training {path_run}...\")\n",
    "    num_iter = trainer.train(network, problem, path_run, tqdm=tqdm.notebook.tqdm, tensorboard_writer=writer)\n",
    "    print(f\"YAY \\o.o/ Finished Training!!! {num_iter} iterations.\")\n",
    "\n",
    "    # Save model\n",
    "    torch.save(network.state_dict(), path_run / f\"model.pth\")\n",
    "\n",
    "print(\"Finished experiment!\")"
   ]
  },
  {
   "cell_type": "code",
   "execution_count": null,
   "metadata": {},
   "outputs": [],
   "source": []
  }
 ],
 "metadata": {
  "kernelspec": {
   "display_name": "Python 3 (ipykernel)",
   "language": "python",
   "name": "python3"
  },
  "language_info": {
   "codemirror_mode": {
    "name": "ipython",
    "version": 3
   },
   "file_extension": ".py",
   "mimetype": "text/x-python",
   "name": "python",
   "nbconvert_exporter": "python",
   "pygments_lexer": "ipython3",
   "version": "3.8.10"
  }
 },
 "nbformat": 4,
 "nbformat_minor": 4
}
